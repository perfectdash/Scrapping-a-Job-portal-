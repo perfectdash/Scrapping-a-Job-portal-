{
 "cells": [
  {
   "cell_type": "markdown",
   "id": "1e24cd5d",
   "metadata": {},
   "source": [
    "# Webscrapping_using_beautifulsoup"
   ]
  },
  {
   "cell_type": "code",
   "execution_count": null,
   "id": "afdc4b91",
   "metadata": {},
   "outputs": [],
   "source": [
    "from bs4 import BeautifulSoup\n",
    "import time\n",
    "import requests"
   ]
  },
  {
   "cell_type": "code",
   "execution_count": null,
   "id": "48fd6aad",
   "metadata": {},
   "outputs": [],
   "source": [
    "print('Put some skills that you are not familiar with ')"
   ]
  },
  {
   "cell_type": "code",
   "execution_count": null,
   "id": "6c872ca6",
   "metadata": {},
   "outputs": [],
   "source": [
    "unfamiliar_skill = input('>')"
   ]
  },
  {
   "cell_type": "code",
   "execution_count": null,
   "id": "1db88726",
   "metadata": {},
   "outputs": [],
   "source": [
    "print(f\"filtering out {unfamiliar_skill}\")"
   ]
  },
  {
   "cell_type": "code",
   "execution_count": null,
   "id": "0555905c",
   "metadata": {
    "scrolled": true
   },
   "outputs": [],
   "source": [
    "def find_jobs():\n",
    "    html_text = requests.get('https://www.timesjobs.com/candidate/job-search.html?searchType=personalizedSearch&from=submit&txtKeywords=pyhton+developer+&txtLocation=')\n",
    "    if  html_text.status_code == 200 :\n",
    "        soup = BeautifulSoup(html_text.text,'lxml')\n",
    "        jobs  = soup.find_all('li',class_ = 'clearfix job-bx wht-shd-bx')\n",
    "        for job in jobs : \n",
    "            published_date  = job.find('span', class_ = 'sim-posted').text\n",
    "            if 'few'  in published_date :\n",
    "                company_name = job.find('h3',class_ = 'joblist-comp-name').text.replace('(More Jobs)','')\n",
    "                skills = job.find('span', class_ = 'srp-skills').text\n",
    "                more_info = job.header.h2.a['href']\n",
    "                if unfamiliar_skill not in skills :\n",
    "                    print(f\"Company Name :{company_name.strip()}\")\n",
    "                    print(f\"Requirements : {skills.strip()}\")\n",
    "                    print(f\"More Info :{more_info}\")\n",
    "                    print(\"\\n\")\n",
    "                   \n",
    "                "
   ]
  },
  {
   "cell_type": "code",
   "execution_count": null,
   "id": "32287654",
   "metadata": {},
   "outputs": [],
   "source": [
    "if __name__ == '__main__' :\n",
    "    while True :\n",
    "        find_jobs()\n",
    "        time_wait = 10\n",
    "        print(f'waiting {time_wait} minutes ....')\n",
    "        time.sleep(time_wait*60)"
   ]
  },
  {
   "cell_type": "code",
   "execution_count": null,
   "id": "3d6e47ab",
   "metadata": {},
   "outputs": [],
   "source": []
  }
 ],
 "metadata": {
  "kernelspec": {
   "display_name": "Python 3 (ipykernel)",
   "language": "python",
   "name": "python3"
  },
  "language_info": {
   "codemirror_mode": {
    "name": "ipython",
    "version": 3
   },
   "file_extension": ".py",
   "mimetype": "text/x-python",
   "name": "python",
   "nbconvert_exporter": "python",
   "pygments_lexer": "ipython3",
   "version": "3.9.7"
  }
 },
 "nbformat": 4,
 "nbformat_minor": 5
}
